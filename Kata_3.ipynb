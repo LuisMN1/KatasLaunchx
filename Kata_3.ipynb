{
 "cells": [
  {
   "cell_type": "markdown",
   "metadata": {},
   "source": [
    "## Kata 3"
   ]
  },
  {
   "cell_type": "markdown",
   "metadata": {},
   "source": [
    "Ejercicio 1:"
   ]
  },
  {
   "cell_type": "code",
   "execution_count": 1,
   "metadata": {},
   "outputs": [
    {
     "name": "stdout",
     "output_type": "stream",
     "text": [
      "¡Alerta! Un asteroide se acerca a una gran velocidad.\n"
     ]
    }
   ],
   "source": [
    "# Añadir el código necesario para crear una variable que guarde la velocidad del asteroide\n",
    "# Escribe una expresión de prueba para calcular si necesita una advertencia\n",
    "# Agregue las instrucciones que se ejecutarán si la expresión de prueba es true o false\n",
    "\n",
    "asteroide = 49\n",
    "\n",
    "if asteroide > 25:\n",
    "    print('¡Alerta! Un asteroide se acerca a una gran velocidad.')\n",
    "else:\n",
    "    print('No Hay peligro alguno.')"
   ]
  },
  {
   "cell_type": "markdown",
   "metadata": {},
   "source": [
    "Ejercicio 2:"
   ]
  },
  {
   "cell_type": "code",
   "execution_count": 4,
   "metadata": {},
   "outputs": [
    {
     "name": "stdout",
     "output_type": "stream",
     "text": [
      "No hay ningun haz de luz\n"
     ]
    }
   ],
   "source": [
    "# Agrega el código para crear una variable para un asteroide que viaja a 19 km/s\n",
    "# Escribe varias expresiones de prueba para determinar si puedes ver el rayo de luz desde la tierra\n",
    "# Agrega las instrucciones que se ejecutarán si las expresiones de prueba son True o False\n",
    "\n",
    "asteroide = 19\n",
    "\n",
    "if asteroide > 20:\n",
    "    print(' Wow hay un haz de luz en el cielo ')\n",
    "elif asteroide == 20:\n",
    "    print('Wow hay un haz de luz en el cielo')\n",
    "else:\n",
    "    print('No hay ningun haz de luz')"
   ]
  },
  {
   "cell_type": "markdown",
   "metadata": {},
   "source": [
    "Ejercicio 3:"
   ]
  },
  {
   "cell_type": "code",
   "execution_count": 5,
   "metadata": {},
   "outputs": [
    {
     "name": "stdout",
     "output_type": "stream",
     "text": [
      "Wow hay un haz de luz en el cielo\n"
     ]
    }
   ],
   "source": [
    "# Agrega el código para crear nuevas variables para la velocidad y el tamaño del asteroide\n",
    "# Para probar el código, prueba con varias velocidades y tamaños\n",
    "# Escribe varias expresiones de prueba o combinaciones de expresiones de prueba para determinar qué mensaje se debe enviar a Tierra.\n",
    "\n",
    "velocidad_ast = 25\n",
    "tamano_ast = 40\n",
    "if velocidad_ast > 25 and tamano_ast > 25:\n",
    "    print('¡Alerta! ,se acerca un asteroide a la tierra ')\n",
    "elif velocidad_ast >= 20:\n",
    "    print('Wow hay un haz de luz en el cielo')\n",
    "elif tamano_ast < 25:\n",
    "    print('El dia de hoy el cielo esta despejado')\n",
    "else:\n",
    "    print('El dia de hoy el cielo esta despejado')"
   ]
  }
 ],
 "metadata": {
  "interpreter": {
   "hash": "2be5faf79681da6f2a61fdfdd5405d65d042280f7fba6178067603e3a2925119"
  },
  "kernelspec": {
   "display_name": "Python 3.10.2 64-bit",
   "language": "python",
   "name": "python3"
  },
  "language_info": {
   "codemirror_mode": {
    "name": "ipython",
    "version": 3
   },
   "file_extension": ".py",
   "mimetype": "text/x-python",
   "name": "python",
   "nbconvert_exporter": "python",
   "pygments_lexer": "ipython3",
   "version": "3.10.2"
  },
  "orig_nbformat": 4
 },
 "nbformat": 4,
 "nbformat_minor": 2
}

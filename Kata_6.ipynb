{
 "cells": [
  {
   "cell_type": "markdown",
   "metadata": {},
   "source": [
    "## Kata 6:"
   ]
  },
  {
   "cell_type": "markdown",
   "metadata": {},
   "source": [
    "Ejercicio 1:"
   ]
  },
  {
   "cell_type": "code",
   "execution_count": 2,
   "metadata": {},
   "outputs": [
    {
     "name": "stdout",
     "output_type": "stream",
     "text": [
      "hay:  8  planetas en total.\n"
     ]
    }
   ],
   "source": [
    "planetas = ['Mercurio', 'Venus', 'tierra', 'Marte', 'Jupiter', 'Saturno', 'Urano', 'Neptuno']\n",
    "\n",
    "print('hay: ', len(planetas), ' planetas en total.')"
   ]
  },
  {
   "cell_type": "code",
   "execution_count": 4,
   "metadata": {},
   "outputs": [
    {
     "name": "stdout",
     "output_type": "stream",
     "text": [
      "Pluton es ultimo planeta\n"
     ]
    }
   ],
   "source": [
    "planetas.append('Pluton')\n",
    "\n",
    "print(planetas[-1], 'es ultimo planeta')"
   ]
  },
  {
   "cell_type": "markdown",
   "metadata": {},
   "source": [
    "Ejercicio 2:"
   ]
  },
  {
   "cell_type": "code",
   "execution_count": 11,
   "metadata": {},
   "outputs": [],
   "source": [
    "planetas = ['Mercurio', 'Venus', 'tierra', 'Marte', 'Jupiter', 'Saturno', 'Urano', 'Neptuno']\n",
    "\n",
    "planeta_eleg = input('Introdusca el nombre de algun planeta (al ingresar el nombre del planeta, que la primera letra sea en mayuscula)')\n"
   ]
  },
  {
   "cell_type": "code",
   "execution_count": 12,
   "metadata": {},
   "outputs": [],
   "source": [
    "planeta_index = planetas.index(planeta_eleg)"
   ]
  },
  {
   "cell_type": "code",
   "execution_count": 13,
   "metadata": {},
   "outputs": [
    {
     "name": "stdout",
     "output_type": "stream",
     "text": [
      "Estos son los planetas mas cercanos al sol Marte\n",
      "['Mercurio', 'Venus', 'tierra']\n",
      "estos son los planetas mas alejados del sol Marte\n",
      "['Jupiter', 'Saturno', 'Urano', 'Neptuno']\n"
     ]
    }
   ],
   "source": [
    "print('Estos son los planetas mas cercanos al sol ' + planeta_eleg)\n",
    "print(planetas[0:planeta_index])\n",
    "\n",
    "print('estos son los planetas mas alejados del sol ' + planeta_eleg)\n",
    "print(planetas[planeta_index + 1:])"
   ]
  }
 ],
 "metadata": {
  "interpreter": {
   "hash": "f227400a4f9a783e6b0bf48bc973e0692ce4d19ee0ef4afb7af359e521d5de9f"
  },
  "kernelspec": {
   "display_name": "Python 3.10.2 ('env': venv)",
   "language": "python",
   "name": "python3"
  },
  "language_info": {
   "codemirror_mode": {
    "name": "ipython",
    "version": 3
   },
   "file_extension": ".py",
   "mimetype": "text/x-python",
   "name": "python",
   "nbconvert_exporter": "python",
   "pygments_lexer": "ipython3",
   "version": "3.10.2"
  },
  "orig_nbformat": 4
 },
 "nbformat": 4,
 "nbformat_minor": 2
}

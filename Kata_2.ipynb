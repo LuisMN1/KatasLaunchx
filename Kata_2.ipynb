{
 "cells": [
  {
   "cell_type": "markdown",
   "metadata": {},
   "source": [
    "## Kata 2\n",
    "\n",
    "La kata 2 es la realizacion de un entorno y el poder colocar las katas en una carpeta llamada Src y poder crear el entorno aislado (env)."
   ]
  },
  {
   "cell_type": "markdown",
   "metadata": {},
   "source": []
  }
 ],
 "metadata": {
  "language_info": {
   "name": "python"
  },
  "orig_nbformat": 4
 },
 "nbformat": 4,
 "nbformat_minor": 2
}
